{
 "cells": [
  {
   "cell_type": "code",
   "execution_count": 1,
   "metadata": {},
   "outputs": [
    {
     "data": {
      "text/plain": [
       "'/home/gianni/Files/Studium/Master/04_FS2023/MT/f1tenth_development_gym'"
      ]
     },
     "execution_count": 1,
     "metadata": {},
     "output_type": "execute_result"
    }
   ],
   "source": [
    "import os\n",
    "os.chdir('..')\n",
    "os.getcwd()"
   ]
  },
  {
   "cell_type": "code",
   "execution_count": 2,
   "metadata": {},
   "outputs": [
    {
     "name": "stderr",
     "output_type": "stream",
     "text": [
      "2023-10-29 23:56:53.842038: I tensorflow/tsl/cuda/cudart_stub.cc:28] Could not find cuda drivers on your machine, GPU will not be used.\n",
      "2023-10-29 23:56:53.884709: I tensorflow/tsl/cuda/cudart_stub.cc:28] Could not find cuda drivers on your machine, GPU will not be used.\n",
      "2023-10-29 23:56:53.885350: I tensorflow/core/platform/cpu_feature_guard.cc:182] This TensorFlow binary is optimized to use available CPU instructions in performance-critical operations.\n",
      "To enable the following instructions: AVX2 FMA, in other operations, rebuild TensorFlow with the appropriate compiler flags.\n",
      "2023-10-29 23:56:54.666816: W tensorflow/compiler/tf2tensorrt/utils/py_utils.cc:38] TF-TRT Warning: Could not find TensorRT\n",
      "2023-10-29 23:57:02.987686: E tensorflow/compiler/xla/stream_executor/cuda/cuda_driver.cc:268] failed call to cuInit: CUDA_ERROR_NO_DEVICE: no CUDA-capable device is detected\n"
     ]
    }
   ],
   "source": [
    "from SI_Toolkit.Functions.General.Initialization import get_net, get_norm_info_for_net\n",
    "from SI_Toolkit.Functions.General.Normalising import get_normalization_function\n",
    "from SI_Toolkit.computation_library import TensorFlowLibrary\n",
    "import types\n",
    "import numpy as np"
   ]
  },
  {
   "cell_type": "code",
   "execution_count": 3,
   "metadata": {},
   "outputs": [],
   "source": [
    "def load_network(folder, model, model_subfolder='', path=f'./SI_Toolkit_ASF/Experiments'):\n",
    "    full_path = f'{path}/{folder}/Models/{model_subfolder}/'\n",
    "\n",
    "    a = types.SimpleNamespace()\n",
    "    a.net_name = model\n",
    "    a.path_to_models = full_path\n",
    "    a.wash_out_len = 0\n",
    "    a.post_wash_out_len = 1\n",
    "\n",
    "    net, net_info = get_net(a, batch_size=1)\n",
    "    return (net, net_info)\n",
    "\n",
    "def normalize_input(net_input, net_info):\n",
    "    norm_info = get_norm_info_for_net(net_info)\n",
    "    norm_func = get_normalization_function(norm_info, net_info.inputs, TensorFlowLibrary)\n",
    "    return norm_func(net_input)"
   ]
  },
  {
   "cell_type": "code",
   "execution_count": 4,
   "metadata": {},
   "outputs": [
    {
     "name": "stdout",
     "output_type": "stream",
     "text": [
      "Loading a pretrained network with the full name: Custom-11IN-ODE_module-STModelMu-9OUT-0\n",
      "\n",
      "Inputs to the loaded network: angular_control, translational_control, angular_vel_z, linear_vel_x, pose_theta, pose_theta_cos, pose_theta_sin, pose_x, pose_y, slip_angle, steering_angle\n",
      "Outputs from the loaded network: angular_vel_z, linear_vel_x, pose_theta, pose_theta_cos, pose_theta_sin, pose_x, pose_y, slip_angle, steering_angle\n",
      "\n",
      "Warning! Net info does not contain information about dt!\n",
      "Loaded the model STModelMu from ./SI_Toolkit_ASF/Modules/ODE_module.py.\n",
      "Loading Model:  ./SI_Toolkit_ASF/Experiments/0_AL/Models//Custom-11IN-ODE_module-STModelMu-9OUT-0/ckpt.ckpt\n",
      "\n",
      "Model loaded from a checkpoint.\n"
     ]
    },
    {
     "data": {
      "text/plain": [
       "{'mu': <tf.Variable 'mu:0' shape=() dtype=float32, numpy=0.9>,\n",
       " 'C_Sf': <tf.Variable 'C_Sf:0' shape=() dtype=float32, numpy=4.718>,\n",
       " 'C_Sr': <tf.Variable 'C_Sr:0' shape=() dtype=float32, numpy=5.4562>,\n",
       " 'lf': <tf.Variable 'lf:0' shape=() dtype=float32, numpy=0.15875>,\n",
       " 'lr': <tf.Variable 'lr:0' shape=() dtype=float32, numpy=0.17145>,\n",
       " 'h': <tf.Variable 'h:0' shape=() dtype=float32, numpy=0.074>,\n",
       " 'm': <tf.Variable 'm:0' shape=() dtype=float32, numpy=4.2>,\n",
       " 'I': <tf.Variable 'I:0' shape=() dtype=float32, numpy=0.04712>,\n",
       " 'g': <tf.Variable 'g:0' shape=() dtype=float32, numpy=9.81>,\n",
       " 'width': <tf.Variable 'width:0' shape=() dtype=float32, numpy=0.31>,\n",
       " 'length': <tf.Variable 'length:0' shape=() dtype=float32, numpy=0.58>,\n",
       " 's_min': <tf.Variable 's_min:0' shape=() dtype=float32, numpy=-0.4189>,\n",
       " 's_max': <tf.Variable 's_max:0' shape=() dtype=float32, numpy=0.4189>,\n",
       " 'sv_min': <tf.Variable 'sv_min:0' shape=() dtype=float32, numpy=-3.2>,\n",
       " 'sv_max': <tf.Variable 'sv_max:0' shape=() dtype=float32, numpy=3.2>,\n",
       " 'a_max': <tf.Variable 'a_max:0' shape=() dtype=float32, numpy=9.01>,\n",
       " 'v_min': <tf.Variable 'v_min:0' shape=() dtype=float32, numpy=-5.0>,\n",
       " 'v_max': <tf.Variable 'v_max:0' shape=() dtype=float32, numpy=20.0>,\n",
       " 'v_switch': <tf.Variable 'v_switch:0' shape=() dtype=float32, numpy=7.319>,\n",
       " 'servo_p': <tf.Variable 'servo_p:0' shape=() dtype=float32, numpy=10.0>,\n",
       " 'steering_diff_low': <tf.Variable 'steering_diff_low:0' shape=() dtype=float32, numpy=1e-04>,\n",
       " 'min_speed_st': <tf.Variable 'min_speed_st:0' shape=() dtype=float32, numpy=1.0>}"
      ]
     },
     "execution_count": 4,
     "metadata": {},
     "output_type": "execute_result"
    }
   ],
   "source": [
    "net, net_info = load_network('0_AL', 'Custom-11IN-ODE_module-STModelMu-9OUT-0')\n",
    "net.car_parameters_tf"
   ]
  },
  {
   "cell_type": "code",
   "execution_count": 5,
   "metadata": {},
   "outputs": [
    {
     "name": "stdout",
     "output_type": "stream",
     "text": [
      "Loading a pretrained network with the full name: Dense-10IN-64H1-128H2-64H3-8OUT-0\n",
      "\n",
      "Inputs to the loaded network: angular_control, translational_control, angular_vel_z, linear_vel_x, pose_theta_cos, pose_theta_sin, pose_x, pose_y, slip_angle, steering_angle\n",
      "Outputs from the loaded network: D_angular_vel_z, D_linear_vel_x, D_pose_theta_cos, D_pose_theta_sin, D_pose_x, D_pose_y, D_slip_angle, D_steering_angle\n",
      "\n",
      "Constructed a neural network of type Dense, with 3 hidden layers with sizes 64, 128, 64 respectively.\n",
      "Loading Model:  ./SI_Toolkit_ASF/Experiments/0_DNN/Models/Dense-10IN-64H1-128H2-64H3-8OUT-0/ckpt.ckpt\n",
      "\n",
      "Model loaded from a checkpoint.\n",
      "1/1 [==============================] - 0s 151ms/step\n",
      "[[[ 0.66690063 -0.02496634  0.07899188 -0.5755585   0.5859602\n",
      "    0.13937137  0.506636    0.9971581 ]]]\n",
      "1/1 [==============================] - 0s 16ms/step\n",
      "[[[ 0.41962606 -0.529468    0.22278497 -0.17148323  0.06865334\n",
      "   -0.17035156 -0.07038237  1.0255618 ]]]\n"
     ]
    }
   ],
   "source": [
    "folder = '0_DNN'\n",
    "model = 'Dense-10IN-64H1-128H2-64H3-8OUT-0'\n",
    "\n",
    "net, net_info = load_network(folder, model)\n",
    "first_input = np.array([[[0.403, 5.89, -5.052, 5.896, 1.0, 0.0, 0.0, 0.0, 0.279, -0.244]]])\n",
    "first_input = normalize_input(first_input, net_info)\n",
    "print(net.predict(first_input))\n",
    "\n",
    "second_input = np.array([[[0.403, 5.89, -5.052, 5.896, 1.0, 0.0, 10000.0, 10000.0, 0.279, -0.244]]])\n",
    "second_input = normalize_input(second_input, net_info)\n",
    "print(net.predict(second_input))"
   ]
  },
  {
   "cell_type": "code",
   "execution_count": 6,
   "metadata": {},
   "outputs": [
    {
     "name": "stdout",
     "output_type": "stream",
     "text": [
      "Loading a pretrained network with the full name: Dense-8IN-64H1-128H2-64H3-8OUT-0\n",
      "\n",
      "Inputs to the loaded network: angular_control, translational_control, angular_vel_z, linear_vel_x, pose_theta_cos, pose_theta_sin, slip_angle, steering_angle\n",
      "Outputs from the loaded network: D_angular_vel_z, D_linear_vel_x, D_pose_theta_cos, D_pose_theta_sin, D_pose_x, D_pose_y, D_slip_angle, D_steering_angle\n",
      "\n",
      "Constructed a neural network of type Dense, with 3 hidden layers with sizes 64, 128, 64 respectively.\n",
      "Loading Model:  ./SI_Toolkit_ASF/Experiments/0_DNN/Models/Dense-8IN-64H1-128H2-64H3-8OUT-0/ckpt.ckpt\n",
      "\n",
      "Model loaded from a checkpoint.\n",
      "1/1 [==============================] - 0s 106ms/step\n",
      "[[[ 0.66830236 -0.01968992  0.07744277 -0.57960576  0.58169574\n",
      "    0.13667008  0.5022316   0.99827665]]]\n"
     ]
    }
   ],
   "source": [
    "folder = '0_DNN'\n",
    "model = 'Dense-8IN-64H1-128H2-64H3-8OUT-0'\n",
    "\n",
    "net, net_info = load_network(folder, model)\n",
    "first_input = np.array([[[0.403, 5.89, -5.052, 5.896, 1.0, 0.0, 0.279, -0.244]]])\n",
    "first_input = normalize_input(first_input, net_info)\n",
    "print(net.predict(first_input))"
   ]
  }
 ],
 "metadata": {
  "kernelspec": {
   "display_name": "f1tenth",
   "language": "python",
   "name": "f1tenth"
  },
  "language_info": {
   "codemirror_mode": {
    "name": "ipython",
    "version": 3
   },
   "file_extension": ".py",
   "mimetype": "text/x-python",
   "name": "python",
   "nbconvert_exporter": "python",
   "pygments_lexer": "ipython3",
   "version": "3.8.16"
  }
 },
 "nbformat": 4,
 "nbformat_minor": 2
}
