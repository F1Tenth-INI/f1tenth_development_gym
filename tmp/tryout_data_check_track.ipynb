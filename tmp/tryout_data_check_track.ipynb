{
 "cells": [
  {
   "cell_type": "code",
   "execution_count": 12,
   "metadata": {},
   "outputs": [],
   "source": [
    "import pandas as pd\n",
    "import glob\n",
    "import random\n",
    "import numpy as np\n",
    "import matplotlib.pyplot as plt\n",
    "\n",
    "import os\n",
    "os.chdir('/home/gianni/Files/Studium/Master/04_FS2023/MT/f1tenth_development_gym/')\n",
    "from SI_Toolkit.load_and_normalize import append_derivatives_to_df"
   ]
  },
  {
   "cell_type": "code",
   "execution_count": 17,
   "metadata": {},
   "outputs": [],
   "source": [
    "file = f'./SI_Toolkit_ASF/Experiments/0_DNN/Recordings_high_mu_pp/Test/track_data.csv'\n",
    "frame = pd.read_csv(file, skiprows=8)\n",
    "exclude = ['WYPT', 'LIDAR', 'linear_vel_y', 'mu', 'pose_theta_']\n",
    "frame = frame[[col for col in frame.columns if not any(tmp in col for tmp in exclude)]]\n",
    "# frame.describe()"
   ]
  },
  {
   "cell_type": "code",
   "execution_count": 18,
   "metadata": {},
   "outputs": [
    {
     "data": {
      "text/html": [
       "<div>\n",
       "<style scoped>\n",
       "    .dataframe tbody tr th:only-of-type {\n",
       "        vertical-align: middle;\n",
       "    }\n",
       "\n",
       "    .dataframe tbody tr th {\n",
       "        vertical-align: top;\n",
       "    }\n",
       "\n",
       "    .dataframe thead th {\n",
       "        text-align: right;\n",
       "    }\n",
       "</style>\n",
       "<table border=\"1\" class=\"dataframe\">\n",
       "  <thead>\n",
       "    <tr style=\"text-align: right;\">\n",
       "      <th></th>\n",
       "      <th>time</th>\n",
       "      <th>translational_control_applied</th>\n",
       "      <th>angular_control_applied</th>\n",
       "      <th>translational_control</th>\n",
       "      <th>angular_control</th>\n",
       "      <th>pose_x</th>\n",
       "      <th>pose_y</th>\n",
       "      <th>pose_theta</th>\n",
       "      <th>linear_vel_x</th>\n",
       "      <th>angular_vel_z</th>\n",
       "      <th>slip_angle</th>\n",
       "      <th>steering_angle</th>\n",
       "      <th>D_pose_x</th>\n",
       "      <th>D_pose_y</th>\n",
       "      <th>D_pose_theta</th>\n",
       "      <th>D_linear_vel_x</th>\n",
       "      <th>D_angular_vel_z</th>\n",
       "      <th>D_slip_angle</th>\n",
       "      <th>D_steering_angle</th>\n",
       "    </tr>\n",
       "  </thead>\n",
       "  <tbody>\n",
       "    <tr>\n",
       "      <th>count</th>\n",
       "      <td>2498.000000</td>\n",
       "      <td>2498.000000</td>\n",
       "      <td>2498.000000</td>\n",
       "      <td>2498.000000</td>\n",
       "      <td>2498.000000</td>\n",
       "      <td>2498.000000</td>\n",
       "      <td>2498.000000</td>\n",
       "      <td>2498.000000</td>\n",
       "      <td>2498.000000</td>\n",
       "      <td>2498.000000</td>\n",
       "      <td>2498.000000</td>\n",
       "      <td>2498.000000</td>\n",
       "      <td>2498.000000</td>\n",
       "      <td>2498.000000</td>\n",
       "      <td>2498.000000</td>\n",
       "      <td>2498.000000</td>\n",
       "      <td>2498.000000</td>\n",
       "      <td>2498.000000</td>\n",
       "      <td>2498.000000</td>\n",
       "    </tr>\n",
       "    <tr>\n",
       "      <th>mean</th>\n",
       "      <td>49.980000</td>\n",
       "      <td>3.236848</td>\n",
       "      <td>-0.074120</td>\n",
       "      <td>3.236848</td>\n",
       "      <td>-0.074120</td>\n",
       "      <td>2.533202</td>\n",
       "      <td>-2.338192</td>\n",
       "      <td>-0.207244</td>\n",
       "      <td>3.149336</td>\n",
       "      <td>-0.456277</td>\n",
       "      <td>-0.013757</td>\n",
       "      <td>-0.072747</td>\n",
       "      <td>0.118303</td>\n",
       "      <td>-0.029868</td>\n",
       "      <td>-0.015498</td>\n",
       "      <td>0.021617</td>\n",
       "      <td>-0.018214</td>\n",
       "      <td>-0.000646</td>\n",
       "      <td>-0.003026</td>\n",
       "    </tr>\n",
       "    <tr>\n",
       "      <th>std</th>\n",
       "      <td>28.850192</td>\n",
       "      <td>1.002168</td>\n",
       "      <td>0.177984</td>\n",
       "      <td>1.002168</td>\n",
       "      <td>0.177984</td>\n",
       "      <td>6.276730</td>\n",
       "      <td>2.167499</td>\n",
       "      <td>1.955318</td>\n",
       "      <td>0.976866</td>\n",
       "      <td>1.062947</td>\n",
       "      <td>0.041758</td>\n",
       "      <td>0.142237</td>\n",
       "      <td>2.971497</td>\n",
       "      <td>1.424429</td>\n",
       "      <td>14.983771</td>\n",
       "      <td>1.352157</td>\n",
       "      <td>10.522780</td>\n",
       "      <td>0.362469</td>\n",
       "      <td>1.242065</td>\n",
       "    </tr>\n",
       "    <tr>\n",
       "      <th>min</th>\n",
       "      <td>0.040000</td>\n",
       "      <td>1.612990</td>\n",
       "      <td>-0.662090</td>\n",
       "      <td>1.612990</td>\n",
       "      <td>-0.662090</td>\n",
       "      <td>-6.129280</td>\n",
       "      <td>-5.704480</td>\n",
       "      <td>-3.138450</td>\n",
       "      <td>0.180200</td>\n",
       "      <td>-4.153350</td>\n",
       "      <td>-0.151500</td>\n",
       "      <td>-0.427990</td>\n",
       "      <td>-4.294500</td>\n",
       "      <td>-2.164000</td>\n",
       "      <td>-156.419000</td>\n",
       "      <td>-6.482500</td>\n",
       "      <td>-43.947250</td>\n",
       "      <td>-2.277000</td>\n",
       "      <td>-3.200000</td>\n",
       "    </tr>\n",
       "    <tr>\n",
       "      <th>25%</th>\n",
       "      <td>25.010000</td>\n",
       "      <td>2.377618</td>\n",
       "      <td>-0.183220</td>\n",
       "      <td>2.377618</td>\n",
       "      <td>-0.183220</td>\n",
       "      <td>-3.601348</td>\n",
       "      <td>-4.224778</td>\n",
       "      <td>-2.170220</td>\n",
       "      <td>2.308045</td>\n",
       "      <td>-1.179137</td>\n",
       "      <td>-0.033070</td>\n",
       "      <td>-0.158532</td>\n",
       "      <td>-2.654938</td>\n",
       "      <td>-1.278937</td>\n",
       "      <td>-1.170562</td>\n",
       "      <td>-0.471125</td>\n",
       "      <td>-5.988875</td>\n",
       "      <td>-0.170250</td>\n",
       "      <td>-0.801187</td>\n",
       "    </tr>\n",
       "    <tr>\n",
       "      <th>50%</th>\n",
       "      <td>49.980000</td>\n",
       "      <td>3.175675</td>\n",
       "      <td>-0.072845</td>\n",
       "      <td>3.175675</td>\n",
       "      <td>-0.072845</td>\n",
       "      <td>2.074920</td>\n",
       "      <td>-2.890630</td>\n",
       "      <td>-0.113950</td>\n",
       "      <td>3.082095</td>\n",
       "      <td>-0.567540</td>\n",
       "      <td>-0.008180</td>\n",
       "      <td>-0.067030</td>\n",
       "      <td>-0.715875</td>\n",
       "      <td>-0.266000</td>\n",
       "      <td>-0.550125</td>\n",
       "      <td>0.425875</td>\n",
       "      <td>0.068000</td>\n",
       "      <td>0.002750</td>\n",
       "      <td>0.016750</td>\n",
       "    </tr>\n",
       "    <tr>\n",
       "      <th>75%</th>\n",
       "      <td>74.950000</td>\n",
       "      <td>3.949838</td>\n",
       "      <td>0.039443</td>\n",
       "      <td>3.949838</td>\n",
       "      <td>0.039443</td>\n",
       "      <td>8.832642</td>\n",
       "      <td>-0.004587</td>\n",
       "      <td>1.217348</td>\n",
       "      <td>3.835470</td>\n",
       "      <td>0.159310</td>\n",
       "      <td>0.010340</td>\n",
       "      <td>0.020248</td>\n",
       "      <td>2.858313</td>\n",
       "      <td>1.181437</td>\n",
       "      <td>0.169938</td>\n",
       "      <td>0.804438</td>\n",
       "      <td>5.603250</td>\n",
       "      <td>0.172062</td>\n",
       "      <td>0.761313</td>\n",
       "    </tr>\n",
       "    <tr>\n",
       "      <th>max</th>\n",
       "      <td>99.920000</td>\n",
       "      <td>7.025610</td>\n",
       "      <td>0.548750</td>\n",
       "      <td>7.025610</td>\n",
       "      <td>0.548750</td>\n",
       "      <td>11.850110</td>\n",
       "      <td>0.960390</td>\n",
       "      <td>3.141090</td>\n",
       "      <td>5.386120</td>\n",
       "      <td>4.571650</td>\n",
       "      <td>0.190250</td>\n",
       "      <td>0.397990</td>\n",
       "      <td>5.379250</td>\n",
       "      <td>2.629500</td>\n",
       "      <td>156.676500</td>\n",
       "      <td>9.010000</td>\n",
       "      <td>47.131500</td>\n",
       "      <td>2.297750</td>\n",
       "      <td>3.200000</td>\n",
       "    </tr>\n",
       "  </tbody>\n",
       "</table>\n",
       "</div>"
      ],
      "text/plain": [
       "              time  translational_control_applied  angular_control_applied   \n",
       "count  2498.000000                    2498.000000              2498.000000  \\\n",
       "mean     49.980000                       3.236848                -0.074120   \n",
       "std      28.850192                       1.002168                 0.177984   \n",
       "min       0.040000                       1.612990                -0.662090   \n",
       "25%      25.010000                       2.377618                -0.183220   \n",
       "50%      49.980000                       3.175675                -0.072845   \n",
       "75%      74.950000                       3.949838                 0.039443   \n",
       "max      99.920000                       7.025610                 0.548750   \n",
       "\n",
       "       translational_control  angular_control       pose_x       pose_y   \n",
       "count            2498.000000      2498.000000  2498.000000  2498.000000  \\\n",
       "mean                3.236848        -0.074120     2.533202    -2.338192   \n",
       "std                 1.002168         0.177984     6.276730     2.167499   \n",
       "min                 1.612990        -0.662090    -6.129280    -5.704480   \n",
       "25%                 2.377618        -0.183220    -3.601348    -4.224778   \n",
       "50%                 3.175675        -0.072845     2.074920    -2.890630   \n",
       "75%                 3.949838         0.039443     8.832642    -0.004587   \n",
       "max                 7.025610         0.548750    11.850110     0.960390   \n",
       "\n",
       "        pose_theta  linear_vel_x  angular_vel_z   slip_angle  steering_angle   \n",
       "count  2498.000000   2498.000000    2498.000000  2498.000000     2498.000000  \\\n",
       "mean     -0.207244      3.149336      -0.456277    -0.013757       -0.072747   \n",
       "std       1.955318      0.976866       1.062947     0.041758        0.142237   \n",
       "min      -3.138450      0.180200      -4.153350    -0.151500       -0.427990   \n",
       "25%      -2.170220      2.308045      -1.179137    -0.033070       -0.158532   \n",
       "50%      -0.113950      3.082095      -0.567540    -0.008180       -0.067030   \n",
       "75%       1.217348      3.835470       0.159310     0.010340        0.020248   \n",
       "max       3.141090      5.386120       4.571650     0.190250        0.397990   \n",
       "\n",
       "          D_pose_x     D_pose_y  D_pose_theta  D_linear_vel_x   \n",
       "count  2498.000000  2498.000000   2498.000000     2498.000000  \\\n",
       "mean      0.118303    -0.029868     -0.015498        0.021617   \n",
       "std       2.971497     1.424429     14.983771        1.352157   \n",
       "min      -4.294500    -2.164000   -156.419000       -6.482500   \n",
       "25%      -2.654938    -1.278937     -1.170562       -0.471125   \n",
       "50%      -0.715875    -0.266000     -0.550125        0.425875   \n",
       "75%       2.858313     1.181437      0.169938        0.804438   \n",
       "max       5.379250     2.629500    156.676500        9.010000   \n",
       "\n",
       "       D_angular_vel_z  D_slip_angle  D_steering_angle  \n",
       "count      2498.000000   2498.000000       2498.000000  \n",
       "mean         -0.018214     -0.000646         -0.003026  \n",
       "std          10.522780      0.362469          1.242065  \n",
       "min         -43.947250     -2.277000         -3.200000  \n",
       "25%          -5.988875     -0.170250         -0.801187  \n",
       "50%           0.068000      0.002750          0.016750  \n",
       "75%           5.603250      0.172062          0.761313  \n",
       "max          47.131500      2.297750          3.200000  "
      ]
     },
     "execution_count": 18,
     "metadata": {},
     "output_type": "execute_result"
    }
   ],
   "source": [
    "variables_for_derivative = ['pose_x',\n",
    "                                'pose_y',\n",
    "                                'pose_theta',\n",
    "                                'linear_vel_x',\n",
    "                                'angular_vel_z',\n",
    "                                'slip_angle',\n",
    "                                'steering_angle']\n",
    "derivative_algorithm = \"backward_difference\"\n",
    "frame = append_derivatives_to_df(frame, variables_for_derivative, derivative_algorithm)\n",
    "frame.describe()\n"
   ]
  },
  {
   "cell_type": "code",
   "execution_count": 3,
   "metadata": {},
   "outputs": [],
   "source": [
    "# path = f'../SI_Toolkit_ASF/Experiments/Experiment-9/Recordings/Train/*.csv'\n",
    "# files = glob.glob(path)\n",
    "# dfs = []\n",
    "# for file in files:\n",
    "#     dfs.append(pd.read_csv(file, skiprows=8))\n",
    "# initial_frame = pd.concat(dfs, axis=0, ignore_index=True)\n",
    "# exclude = ['WYPT', 'LIDAR', 'linear_vel_y', 'mu', 'pose_theta_']\n",
    "# initial_frame = initial_frame[[col for col in initial_frame.columns if not any(tmp in col for tmp in exclude)]]\n",
    "# # initial_frame.describe()"
   ]
  },
  {
   "cell_type": "code",
   "execution_count": 4,
   "metadata": {},
   "outputs": [],
   "source": [
    "# for df in dfs:\n",
    "#     print(df.groupby('experiment_index').size())"
   ]
  },
  {
   "cell_type": "markdown",
   "metadata": {},
   "source": [
    "# Some Plots"
   ]
  },
  {
   "cell_type": "code",
   "execution_count": 5,
   "metadata": {},
   "outputs": [
    {
     "data": {
      "text/plain": [
       "<AxesSubplot:>"
      ]
     },
     "execution_count": 5,
     "metadata": {},
     "output_type": "execute_result"
    },
    {
     "data": {
      "image/png": "[encoded data removed]",
      "text/plain": [
       "<Figure size 640x480 with 1 Axes>"
      ]
     },
     "metadata": {},
     "output_type": "display_data"
    }
   ],
   "source": [
    "frame.translational_control.hist(bins=250)"
   ]
  },
  {
   "cell_type": "code",
   "execution_count": 6,
   "metadata": {},
   "outputs": [
    {
     "data": {
      "text/plain": [
       "<AxesSubplot:>"
      ]
     },
     "execution_count": 6,
     "metadata": {},
     "output_type": "execute_result"
    },
    {
     "data": {
      "image/png": "[encoded data removed]",
      "text/plain": [
       "<Figure size 640x480 with 1 Axes>"
      ]
     },
     "metadata": {},
     "output_type": "display_data"
    }
   ],
   "source": [
    "frame.angular_control.hist(bins=250)"
   ]
  },
  {
   "cell_type": "code",
   "execution_count": 7,
   "metadata": {},
   "outputs": [
    {
     "data": {
      "text/plain": [
       "<AxesSubplot:>"
      ]
     },
     "execution_count": 7,
     "metadata": {},
     "output_type": "execute_result"
    },
    {
     "data": {
      "image/png": "[encoded data removed]",
      "text/plain": [
       "<Figure size 640x480 with 1 Axes>"
      ]
     },
     "metadata": {},
     "output_type": "display_data"
    }
   ],
   "source": [
    "frame.linear_vel_x.hist(bins=250)"
   ]
  },
  {
   "cell_type": "code",
   "execution_count": 8,
   "metadata": {},
   "outputs": [
    {
     "data": {
      "text/plain": [
       "<AxesSubplot:>"
      ]
     },
     "execution_count": 8,
     "metadata": {},
     "output_type": "execute_result"
    },
    {
     "data": {
      "image/png": "[encoded data removed]",
      "text/plain": [
       "<Figure size 640x480 with 1 Axes>"
      ]
     },
     "metadata": {},
     "output_type": "display_data"
    }
   ],
   "source": [
    "frame.angular_vel_z.hist(bins=250)"
   ]
  },
  {
   "cell_type": "code",
   "execution_count": 9,
   "metadata": {},
   "outputs": [
    {
     "data": {
      "text/plain": [
       "<AxesSubplot:>"
      ]
     },
     "execution_count": 9,
     "metadata": {},
     "output_type": "execute_result"
    },
    {
     "data": {
      "image/png": "[encoded data removed]",
      "text/plain": [
       "<Figure size 640x480 with 1 Axes>"
      ]
     },
     "metadata": {},
     "output_type": "display_data"
    }
   ],
   "source": [
    "frame.slip_angle.hist(bins=250)"
   ]
  },
  {
   "cell_type": "markdown",
   "metadata": {},
   "source": [
    "## Delta values"
   ]
  },
  {
   "cell_type": "code",
   "execution_count": 10,
   "metadata": {},
   "outputs": [],
   "source": [
    "delta_frame = frame[frame.time != 0.04]"
   ]
  },
  {
   "cell_type": "code",
   "execution_count": 11,
   "metadata": {},
   "outputs": [
    {
     "data": {
      "text/plain": [
       "<AxesSubplot:>"
      ]
     },
     "execution_count": 11,
     "metadata": {},
     "output_type": "execute_result"
    },
    {
     "data": {
      "image/png": "[encoded data removed]",
      "text/plain": [
       "<Figure size 640x480 with 1 Axes>"
      ]
     },
     "metadata": {},
     "output_type": "display_data"
    }
   ],
   "source": [
    "delta_frame.D_angular_vel_z.hist(bins=250)"
   ]
  },
  {
   "cell_type": "code",
   "execution_count": 12,
   "metadata": {},
   "outputs": [
    {
     "data": {
      "text/plain": [
       "<AxesSubplot:>"
      ]
     },
     "execution_count": 12,
     "metadata": {},
     "output_type": "execute_result"
    },
    {
     "data": {
      "image/png": "[encoded data removed]",
      "text/plain": [
       "<Figure size 640x480 with 1 Axes>"
      ]
     },
     "metadata": {},
     "output_type": "display_data"
    }
   ],
   "source": [
    "delta_frame.D_slip_angle.hist(bins=250)"
   ]
  },
  {
   "cell_type": "code",
   "execution_count": 13,
   "metadata": {},
   "outputs": [
    {
     "data": {
      "text/plain": [
       "<AxesSubplot:>"
      ]
     },
     "execution_count": 13,
     "metadata": {},
     "output_type": "execute_result"
    },
    {
     "data": {
      "image/png": "[encoded data removed]",
      "text/plain": [
       "<Figure size 640x480 with 1 Axes>"
      ]
     },
     "metadata": {},
     "output_type": "display_data"
    }
   ],
   "source": [
    "frame.D_linear_vel_x.hist(bins=500)"
   ]
  },
  {
   "cell_type": "markdown",
   "metadata": {},
   "source": [
    "# Explore linear velocity"
   ]
  },
  {
   "cell_type": "code",
   "execution_count": 19,
   "metadata": {},
   "outputs": [],
   "source": [
    "# frame[frame.D_linear_vel_x > 9.01]"
   ]
  },
  {
   "cell_type": "code",
   "execution_count": 15,
   "metadata": {},
   "outputs": [
    {
     "data": {
      "text/html": [
       "<div>\n",
       "<style scoped>\n",
       "    .dataframe tbody tr th:only-of-type {\n",
       "        vertical-align: middle;\n",
       "    }\n",
       "\n",
       "    .dataframe tbody tr th {\n",
       "        vertical-align: top;\n",
       "    }\n",
       "\n",
       "    .dataframe thead th {\n",
       "        text-align: right;\n",
       "    }\n",
       "</style>\n",
       "<table border=\"1\" class=\"dataframe\">\n",
       "  <thead>\n",
       "    <tr style=\"text-align: right;\">\n",
       "      <th></th>\n",
       "      <th>time</th>\n",
       "      <th>angular_control</th>\n",
       "      <th>translational_control</th>\n",
       "      <th>angular_vel_z</th>\n",
       "      <th>linear_vel_x</th>\n",
       "      <th>pose_theta</th>\n",
       "      <th>pose_x</th>\n",
       "      <th>pose_y</th>\n",
       "      <th>slip_angle</th>\n",
       "      <th>steering_angle</th>\n",
       "      <th>experiment_index</th>\n",
       "      <th>D_pose_x</th>\n",
       "      <th>D_pose_y</th>\n",
       "      <th>D_pose_theta</th>\n",
       "      <th>D_linear_vel_x</th>\n",
       "      <th>D_angular_vel_z</th>\n",
       "      <th>D_slip_angle</th>\n",
       "      <th>D_steering_angle</th>\n",
       "    </tr>\n",
       "  </thead>\n",
       "  <tbody>\n",
       "  </tbody>\n",
       "</table>\n",
       "</div>"
      ],
      "text/plain": [
       "Empty DataFrame\n",
       "Columns: [time, angular_control, translational_control, angular_vel_z, linear_vel_x, pose_theta, pose_x, pose_y, slip_angle, steering_angle, experiment_index, D_pose_x, D_pose_y, D_pose_theta, D_linear_vel_x, D_angular_vel_z, D_slip_angle, D_steering_angle]\n",
       "Index: []"
      ]
     },
     "execution_count": 15,
     "metadata": {},
     "output_type": "execute_result"
    }
   ],
   "source": [
    "# high_D_lin = frame[frame.experiment_index == 2530]\n",
    "# high_D_lin"
   ]
  },
  {
   "cell_type": "markdown",
   "metadata": {},
   "source": [
    "# Explore slip angle"
   ]
  },
  {
   "cell_type": "code",
   "execution_count": 16,
   "metadata": {},
   "outputs": [
    {
     "data": {
      "text/html": [
       "<div>\n",
       "<style scoped>\n",
       "    .dataframe tbody tr th:only-of-type {\n",
       "        vertical-align: middle;\n",
       "    }\n",
       "\n",
       "    .dataframe tbody tr th {\n",
       "        vertical-align: top;\n",
       "    }\n",
       "\n",
       "    .dataframe thead th {\n",
       "        text-align: right;\n",
       "    }\n",
       "</style>\n",
       "<table border=\"1\" class=\"dataframe\">\n",
       "  <thead>\n",
       "    <tr style=\"text-align: right;\">\n",
       "      <th></th>\n",
       "      <th>time</th>\n",
       "      <th>angular_control</th>\n",
       "      <th>translational_control</th>\n",
       "      <th>angular_vel_z</th>\n",
       "      <th>linear_vel_x</th>\n",
       "      <th>pose_theta</th>\n",
       "      <th>pose_x</th>\n",
       "      <th>pose_y</th>\n",
       "      <th>slip_angle</th>\n",
       "      <th>steering_angle</th>\n",
       "      <th>experiment_index</th>\n",
       "      <th>D_pose_x</th>\n",
       "      <th>D_pose_y</th>\n",
       "      <th>D_pose_theta</th>\n",
       "      <th>D_linear_vel_x</th>\n",
       "      <th>D_angular_vel_z</th>\n",
       "      <th>D_slip_angle</th>\n",
       "      <th>D_steering_angle</th>\n",
       "    </tr>\n",
       "  </thead>\n",
       "  <tbody>\n",
       "  </tbody>\n",
       "</table>\n",
       "</div>"
      ],
      "text/plain": [
       "Empty DataFrame\n",
       "Columns: [time, angular_control, translational_control, angular_vel_z, linear_vel_x, pose_theta, pose_x, pose_y, slip_angle, steering_angle, experiment_index, D_pose_x, D_pose_y, D_pose_theta, D_linear_vel_x, D_angular_vel_z, D_slip_angle, D_steering_angle]\n",
       "Index: []"
      ]
     },
     "execution_count": 16,
     "metadata": {},
     "output_type": "execute_result"
    }
   ],
   "source": [
    "delta_frame[abs(delta_frame.D_slip_angle) > 5]"
   ]
  },
  {
   "cell_type": "code",
   "execution_count": 17,
   "metadata": {},
   "outputs": [
    {
     "data": {
      "text/html": [
       "<div>\n",
       "<style scoped>\n",
       "    .dataframe tbody tr th:only-of-type {\n",
       "        vertical-align: middle;\n",
       "    }\n",
       "\n",
       "    .dataframe tbody tr th {\n",
       "        vertical-align: top;\n",
       "    }\n",
       "\n",
       "    .dataframe thead th {\n",
       "        text-align: right;\n",
       "    }\n",
       "</style>\n",
       "<table border=\"1\" class=\"dataframe\">\n",
       "  <thead>\n",
       "    <tr style=\"text-align: right;\">\n",
       "      <th></th>\n",
       "      <th>time</th>\n",
       "      <th>angular_control</th>\n",
       "      <th>translational_control</th>\n",
       "      <th>angular_vel_z</th>\n",
       "      <th>linear_vel_x</th>\n",
       "      <th>pose_theta</th>\n",
       "      <th>pose_x</th>\n",
       "      <th>pose_y</th>\n",
       "      <th>slip_angle</th>\n",
       "      <th>steering_angle</th>\n",
       "      <th>experiment_index</th>\n",
       "      <th>D_pose_x</th>\n",
       "      <th>D_pose_y</th>\n",
       "      <th>D_pose_theta</th>\n",
       "      <th>D_linear_vel_x</th>\n",
       "      <th>D_angular_vel_z</th>\n",
       "      <th>D_slip_angle</th>\n",
       "      <th>D_steering_angle</th>\n",
       "    </tr>\n",
       "  </thead>\n",
       "  <tbody>\n",
       "  </tbody>\n",
       "</table>\n",
       "</div>"
      ],
      "text/plain": [
       "Empty DataFrame\n",
       "Columns: [time, angular_control, translational_control, angular_vel_z, linear_vel_x, pose_theta, pose_x, pose_y, slip_angle, steering_angle, experiment_index, D_pose_x, D_pose_y, D_pose_theta, D_linear_vel_x, D_angular_vel_z, D_slip_angle, D_steering_angle]\n",
       "Index: []"
      ]
     },
     "execution_count": 17,
     "metadata": {},
     "output_type": "execute_result"
    }
   ],
   "source": [
    "high_acc = frame[frame.experiment_index == 2026]\n",
    "high_acc"
   ]
  },
  {
   "cell_type": "code",
   "execution_count": 18,
   "metadata": {},
   "outputs": [
    {
     "data": {
      "text/plain": [
       "<AxesSubplot:xlabel='pose_x'>"
      ]
     },
     "execution_count": 18,
     "metadata": {},
     "output_type": "execute_result"
    },
    {
     "data": {
      "image/png": "[encoded data removed]",
      "text/plain": [
       "<Figure size 640x480 with 1 Axes>"
      ]
     },
     "metadata": {},
     "output_type": "display_data"
    }
   ],
   "source": [
    "high_acc.plot(x='pose_x', y='pose_y')"
   ]
  }
 ],
 "metadata": {
  "kernelspec": {
   "display_name": "f1tenth",
   "language": "python",
   "name": "python3"
  },
  "language_info": {
   "codemirror_mode": {
    "name": "ipython",
    "version": 3
   },
   "file_extension": ".py",
   "mimetype": "text/x-python",
   "name": "python",
   "nbconvert_exporter": "python",
   "pygments_lexer": "ipython3",
   "version": "3.8.16"
  },
  "orig_nbformat": 4
 },
 "nbformat": 4,
 "nbformat_minor": 2
}
