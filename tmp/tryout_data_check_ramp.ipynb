{
 "cells": [
  {
   "cell_type": "code",
   "execution_count": 1,
   "metadata": {},
   "outputs": [],
   "source": [
    "import pandas as pd\n",
    "import glob\n",
    "import random\n",
    "import numpy as np\n",
    "import matplotlib.pyplot as plt"
   ]
  },
  {
   "cell_type": "code",
   "execution_count": 2,
   "metadata": {},
   "outputs": [
    {
     "data": {
      "text/plain": [
       "['../ExperimentRecordings/1_sim_ramp_preprocessed/F1TENTH_Blank-MPPI-1__2023-09-12_20-37-12.csv',\n",
       " '../ExperimentRecordings/1_sim_ramp_preprocessed/F1TENTH_Blank-MPPI-1__2023-09-12_20-40-37.csv',\n",
       " '../ExperimentRecordings/1_sim_ramp_preprocessed/F1TENTH_Blank-MPPI-1__2023-09-12_20-38-03.csv',\n",
       " '../ExperimentRecordings/1_sim_ramp_preprocessed/F1TENTH_Blank-MPPI-1__2023-09-12_20-38-54.csv',\n",
       " '../ExperimentRecordings/1_sim_ramp_preprocessed/F1TENTH_Blank-MPPI-1__2023-09-12_20-39-20.csv',\n",
       " '../ExperimentRecordings/1_sim_ramp_preprocessed/F1TENTH_Blank-MPPI-1__2023-09-12_20-38-29.csv',\n",
       " '../ExperimentRecordings/1_sim_ramp_preprocessed/F1TENTH_Blank-MPPI-1__2023-09-12_20-39-46.csv',\n",
       " '../ExperimentRecordings/1_sim_ramp_preprocessed/F1TENTH_Blank-MPPI-1__2023-09-12_20-40-11.csv',\n",
       " '../ExperimentRecordings/1_sim_ramp_preprocessed/F1TENTH_Blank-MPPI-1__2023-09-12_20-37-37.csv',\n",
       " '../ExperimentRecordings/1_sim_ramp_preprocessed/F1TENTH_Blank-MPPI-1__2023-09-12_20-36-46.csv']"
      ]
     },
     "execution_count": 2,
     "metadata": {},
     "output_type": "execute_result"
    }
   ],
   "source": [
    "# path = f'../ExperimentRecordings/0_sim_high_mu_preprocessed/*.csv'\n",
    "path = f'../ExperimentRecordings/1_sim_ramp_preprocessed/*.csv'\n",
    "files = glob.glob(path)\n",
    "files"
   ]
  },
  {
   "cell_type": "code",
   "execution_count": 3,
   "metadata": {},
   "outputs": [
    {
     "data": {
      "text/html": [
       "<div>\n",
       "<style scoped>\n",
       "    .dataframe tbody tr th:only-of-type {\n",
       "        vertical-align: middle;\n",
       "    }\n",
       "\n",
       "    .dataframe tbody tr th {\n",
       "        vertical-align: top;\n",
       "    }\n",
       "\n",
       "    .dataframe thead th {\n",
       "        text-align: right;\n",
       "    }\n",
       "</style>\n",
       "<table border=\"1\" class=\"dataframe\">\n",
       "  <thead>\n",
       "    <tr style=\"text-align: right;\">\n",
       "      <th></th>\n",
       "      <th>time</th>\n",
       "      <th>translational_control_applied</th>\n",
       "      <th>angular_control_applied</th>\n",
       "      <th>translational_control</th>\n",
       "      <th>angular_control</th>\n",
       "      <th>pose_x</th>\n",
       "      <th>pose_y</th>\n",
       "      <th>pose_theta</th>\n",
       "      <th>linear_vel_x</th>\n",
       "      <th>angular_vel_z</th>\n",
       "      <th>slip_angle</th>\n",
       "      <th>steering_angle</th>\n",
       "      <th>D_pose_x</th>\n",
       "      <th>D_pose_y</th>\n",
       "      <th>D_pose_theta</th>\n",
       "      <th>D_linear_vel_x</th>\n",
       "      <th>D_angular_vel_z</th>\n",
       "      <th>D_slip_angle</th>\n",
       "      <th>D_steering_angle</th>\n",
       "      <th>experiment_index</th>\n",
       "    </tr>\n",
       "  </thead>\n",
       "  <tbody>\n",
       "    <tr>\n",
       "      <th>count</th>\n",
       "      <td>99980.000000</td>\n",
       "      <td>99980.000000</td>\n",
       "      <td>99980.000000</td>\n",
       "      <td>99980.000000</td>\n",
       "      <td>99980.000000</td>\n",
       "      <td>99980.000000</td>\n",
       "      <td>99980.000000</td>\n",
       "      <td>99980.000000</td>\n",
       "      <td>99980.000000</td>\n",
       "      <td>99980.000000</td>\n",
       "      <td>99980.000000</td>\n",
       "      <td>99980.000000</td>\n",
       "      <td>99980.000000</td>\n",
       "      <td>99980.000000</td>\n",
       "      <td>99980.000000</td>\n",
       "      <td>99980.000000</td>\n",
       "      <td>99980.000000</td>\n",
       "      <td>99980.000000</td>\n",
       "      <td>99980.000000</td>\n",
       "      <td>99980.0</td>\n",
       "    </tr>\n",
       "    <tr>\n",
       "      <th>mean</th>\n",
       "      <td>199.980000</td>\n",
       "      <td>3.499750</td>\n",
       "      <td>0.002645</td>\n",
       "      <td>3.499750</td>\n",
       "      <td>0.002645</td>\n",
       "      <td>552.558588</td>\n",
       "      <td>530.125196</td>\n",
       "      <td>0.050824</td>\n",
       "      <td>3.496446</td>\n",
       "      <td>0.025082</td>\n",
       "      <td>-0.000491</td>\n",
       "      <td>0.002973</td>\n",
       "      <td>0.054036</td>\n",
       "      <td>0.107853</td>\n",
       "      <td>0.001489</td>\n",
       "      <td>0.014994</td>\n",
       "      <td>0.001459</td>\n",
       "      <td>-0.000014</td>\n",
       "      <td>0.000107</td>\n",
       "      <td>0.0</td>\n",
       "    </tr>\n",
       "    <tr>\n",
       "      <th>std</th>\n",
       "      <td>115.447537</td>\n",
       "      <td>1.443094</td>\n",
       "      <td>0.241682</td>\n",
       "      <td>1.443094</td>\n",
       "      <td>0.241682</td>\n",
       "      <td>114.268072</td>\n",
       "      <td>109.027704</td>\n",
       "      <td>1.707655</td>\n",
       "      <td>1.444115</td>\n",
       "      <td>1.012515</td>\n",
       "      <td>0.052899</td>\n",
       "      <td>0.117440</td>\n",
       "      <td>2.712008</td>\n",
       "      <td>2.633874</td>\n",
       "      <td>10.931811</td>\n",
       "      <td>0.076142</td>\n",
       "      <td>11.837192</td>\n",
       "      <td>0.466906</td>\n",
       "      <td>2.261821</td>\n",
       "      <td>0.0</td>\n",
       "    </tr>\n",
       "    <tr>\n",
       "      <th>min</th>\n",
       "      <td>0.040000</td>\n",
       "      <td>1.000500</td>\n",
       "      <td>-0.418900</td>\n",
       "      <td>1.000500</td>\n",
       "      <td>-0.418900</td>\n",
       "      <td>243.801090</td>\n",
       "      <td>293.014770</td>\n",
       "      <td>-3.141540</td>\n",
       "      <td>0.036040</td>\n",
       "      <td>-4.106170</td>\n",
       "      <td>-0.317810</td>\n",
       "      <td>-0.358590</td>\n",
       "      <td>-5.961832</td>\n",
       "      <td>-5.998473</td>\n",
       "      <td>-157.008000</td>\n",
       "      <td>0.012490</td>\n",
       "      <td>-43.493206</td>\n",
       "      <td>-2.279513</td>\n",
       "      <td>-3.201759</td>\n",
       "      <td>0.0</td>\n",
       "    </tr>\n",
       "    <tr>\n",
       "      <th>25%</th>\n",
       "      <td>100.000000</td>\n",
       "      <td>2.250000</td>\n",
       "      <td>-0.206340</td>\n",
       "      <td>2.250000</td>\n",
       "      <td>-0.206340</td>\n",
       "      <td>490.943163</td>\n",
       "      <td>456.646635</td>\n",
       "      <td>-1.344120</td>\n",
       "      <td>2.247230</td>\n",
       "      <td>-0.593612</td>\n",
       "      <td>-0.024630</td>\n",
       "      <td>-0.080850</td>\n",
       "      <td>-2.112992</td>\n",
       "      <td>-1.954216</td>\n",
       "      <td>-0.592874</td>\n",
       "      <td>0.012499</td>\n",
       "      <td>-7.582403</td>\n",
       "      <td>-0.283744</td>\n",
       "      <td>-2.110126</td>\n",
       "      <td>0.0</td>\n",
       "    </tr>\n",
       "    <tr>\n",
       "      <th>50%</th>\n",
       "      <td>199.980000</td>\n",
       "      <td>3.499750</td>\n",
       "      <td>0.003390</td>\n",
       "      <td>3.499750</td>\n",
       "      <td>0.003390</td>\n",
       "      <td>552.296750</td>\n",
       "      <td>505.658160</td>\n",
       "      <td>0.165380</td>\n",
       "      <td>3.496980</td>\n",
       "      <td>0.023585</td>\n",
       "      <td>0.000000</td>\n",
       "      <td>0.003335</td>\n",
       "      <td>0.608812</td>\n",
       "      <td>0.251770</td>\n",
       "      <td>0.024493</td>\n",
       "      <td>0.012501</td>\n",
       "      <td>0.015750</td>\n",
       "      <td>-0.000250</td>\n",
       "      <td>0.005749</td>\n",
       "      <td>0.0</td>\n",
       "    </tr>\n",
       "    <tr>\n",
       "      <th>75%</th>\n",
       "      <td>299.960000</td>\n",
       "      <td>4.749500</td>\n",
       "      <td>0.212533</td>\n",
       "      <td>4.749500</td>\n",
       "      <td>0.212533</td>\n",
       "      <td>626.033550</td>\n",
       "      <td>610.869185</td>\n",
       "      <td>1.343482</td>\n",
       "      <td>4.746730</td>\n",
       "      <td>0.646100</td>\n",
       "      <td>0.023930</td>\n",
       "      <td>0.087320</td>\n",
       "      <td>1.829138</td>\n",
       "      <td>1.993898</td>\n",
       "      <td>0.645610</td>\n",
       "      <td>0.012502</td>\n",
       "      <td>7.574979</td>\n",
       "      <td>0.279440</td>\n",
       "      <td>2.112354</td>\n",
       "      <td>0.0</td>\n",
       "    </tr>\n",
       "    <tr>\n",
       "      <th>max</th>\n",
       "      <td>399.920000</td>\n",
       "      <td>5.999000</td>\n",
       "      <td>0.418900</td>\n",
       "      <td>5.999000</td>\n",
       "      <td>0.418900</td>\n",
       "      <td>880.697200</td>\n",
       "      <td>773.422670</td>\n",
       "      <td>3.141550</td>\n",
       "      <td>5.996230</td>\n",
       "      <td>4.263220</td>\n",
       "      <td>0.322060</td>\n",
       "      <td>0.351500</td>\n",
       "      <td>5.996946</td>\n",
       "      <td>5.978626</td>\n",
       "      <td>157.012200</td>\n",
       "      <td>4.345000</td>\n",
       "      <td>42.286728</td>\n",
       "      <td>2.391239</td>\n",
       "      <td>3.201759</td>\n",
       "      <td>0.0</td>\n",
       "    </tr>\n",
       "  </tbody>\n",
       "</table>\n",
       "</div>"
      ],
      "text/plain": [
       "               time  translational_control_applied  angular_control_applied   \n",
       "count  99980.000000                   99980.000000             99980.000000  \\\n",
       "mean     199.980000                       3.499750                 0.002645   \n",
       "std      115.447537                       1.443094                 0.241682   \n",
       "min        0.040000                       1.000500                -0.418900   \n",
       "25%      100.000000                       2.250000                -0.206340   \n",
       "50%      199.980000                       3.499750                 0.003390   \n",
       "75%      299.960000                       4.749500                 0.212533   \n",
       "max      399.920000                       5.999000                 0.418900   \n",
       "\n",
       "       translational_control  angular_control        pose_x        pose_y   \n",
       "count           99980.000000     99980.000000  99980.000000  99980.000000  \\\n",
       "mean                3.499750         0.002645    552.558588    530.125196   \n",
       "std                 1.443094         0.241682    114.268072    109.027704   \n",
       "min                 1.000500        -0.418900    243.801090    293.014770   \n",
       "25%                 2.250000        -0.206340    490.943163    456.646635   \n",
       "50%                 3.499750         0.003390    552.296750    505.658160   \n",
       "75%                 4.749500         0.212533    626.033550    610.869185   \n",
       "max                 5.999000         0.418900    880.697200    773.422670   \n",
       "\n",
       "         pose_theta  linear_vel_x  angular_vel_z    slip_angle   \n",
       "count  99980.000000  99980.000000   99980.000000  99980.000000  \\\n",
       "mean       0.050824      3.496446       0.025082     -0.000491   \n",
       "std        1.707655      1.444115       1.012515      0.052899   \n",
       "min       -3.141540      0.036040      -4.106170     -0.317810   \n",
       "25%       -1.344120      2.247230      -0.593612     -0.024630   \n",
       "50%        0.165380      3.496980       0.023585      0.000000   \n",
       "75%        1.343482      4.746730       0.646100      0.023930   \n",
       "max        3.141550      5.996230       4.263220      0.322060   \n",
       "\n",
       "       steering_angle      D_pose_x      D_pose_y  D_pose_theta   \n",
       "count    99980.000000  99980.000000  99980.000000  99980.000000  \\\n",
       "mean         0.002973      0.054036      0.107853      0.001489   \n",
       "std          0.117440      2.712008      2.633874     10.931811   \n",
       "min         -0.358590     -5.961832     -5.998473   -157.008000   \n",
       "25%         -0.080850     -2.112992     -1.954216     -0.592874   \n",
       "50%          0.003335      0.608812      0.251770      0.024493   \n",
       "75%          0.087320      1.829138      1.993898      0.645610   \n",
       "max          0.351500      5.996946      5.978626    157.012200   \n",
       "\n",
       "       D_linear_vel_x  D_angular_vel_z  D_slip_angle  D_steering_angle   \n",
       "count    99980.000000     99980.000000  99980.000000      99980.000000  \\\n",
       "mean         0.014994         0.001459     -0.000014          0.000107   \n",
       "std          0.076142        11.837192      0.466906          2.261821   \n",
       "min          0.012490       -43.493206     -2.279513         -3.201759   \n",
       "25%          0.012499        -7.582403     -0.283744         -2.110126   \n",
       "50%          0.012501         0.015750     -0.000250          0.005749   \n",
       "75%          0.012502         7.574979      0.279440          2.112354   \n",
       "max          4.345000        42.286728      2.391239          3.201759   \n",
       "\n",
       "       experiment_index  \n",
       "count           99980.0  \n",
       "mean                0.0  \n",
       "std                 0.0  \n",
       "min                 0.0  \n",
       "25%                 0.0  \n",
       "50%                 0.0  \n",
       "75%                 0.0  \n",
       "max                 0.0  "
      ]
     },
     "execution_count": 3,
     "metadata": {},
     "output_type": "execute_result"
    }
   ],
   "source": [
    "dfs = []\n",
    "for file in files:\n",
    "    dfs.append(pd.read_csv(file, skiprows=8))\n",
    "frame = pd.concat(dfs, axis=0, ignore_index=True)\n",
    "exclude = ['WYPT', 'LIDAR', 'linear_vel_y', 'mu', 'pose_theta_']\n",
    "frame = frame[[col for col in frame.columns if not any(tmp in col for tmp in exclude)]]\n",
    "frame.describe()"
   ]
  },
  {
   "cell_type": "code",
   "execution_count": 4,
   "metadata": {},
   "outputs": [],
   "source": [
    "# for df in dfs:\n",
    "#     print(df.groupby('experiment_index').size())"
   ]
  },
  {
   "cell_type": "markdown",
   "metadata": {},
   "source": [
    "# Some Plots"
   ]
  },
  {
   "cell_type": "code",
   "execution_count": 5,
   "metadata": {},
   "outputs": [
    {
     "data": {
      "text/plain": [
       "<AxesSubplot:>"
      ]
     },
     "execution_count": 5,
     "metadata": {},
     "output_type": "execute_result"
    },
    {
     "data": {
      "image/png": "[encoded data removed]",
      "text/plain": [
       "<Figure size 640x480 with 1 Axes>"
      ]
     },
     "metadata": {},
     "output_type": "display_data"
    }
   ],
   "source": [
    "frame.translational_control.hist(bins=500)"
   ]
  },
  {
   "cell_type": "code",
   "execution_count": 6,
   "metadata": {},
   "outputs": [
    {
     "data": {
      "text/plain": [
       "<AxesSubplot:>"
      ]
     },
     "execution_count": 6,
     "metadata": {},
     "output_type": "execute_result"
    },
    {
     "data": {
      "image/png": "[encoded data removed]",
      "text/plain": [
       "<Figure size 640x480 with 1 Axes>"
      ]
     },
     "metadata": {},
     "output_type": "display_data"
    }
   ],
   "source": [
    "frame.angular_control.hist(bins=500)"
   ]
  },
  {
   "cell_type": "code",
   "execution_count": 7,
   "metadata": {},
   "outputs": [
    {
     "data": {
      "text/plain": [
       "<AxesSubplot:>"
      ]
     },
     "execution_count": 7,
     "metadata": {},
     "output_type": "execute_result"
    },
    {
     "data": {
      "image/png": "[encoded data removed]",
      "text/plain": [
       "<Figure size 640x480 with 1 Axes>"
      ]
     },
     "metadata": {},
     "output_type": "display_data"
    }
   ],
   "source": [
    "frame.linear_vel_x.hist(bins=1000)"
   ]
  },
  {
   "cell_type": "code",
   "execution_count": 8,
   "metadata": {},
   "outputs": [
    {
     "data": {
      "text/plain": [
       "<AxesSubplot:>"
      ]
     },
     "execution_count": 8,
     "metadata": {},
     "output_type": "execute_result"
    },
    {
     "data": {
      "image/png": "[encoded data removed]",
      "text/plain": [
       "<Figure size 640x480 with 1 Axes>"
      ]
     },
     "metadata": {},
     "output_type": "display_data"
    }
   ],
   "source": [
    "frame.angular_vel_z.hist(bins=500)"
   ]
  },
  {
   "cell_type": "code",
   "execution_count": 9,
   "metadata": {},
   "outputs": [
    {
     "data": {
      "text/plain": [
       "<AxesSubplot:>"
      ]
     },
     "execution_count": 9,
     "metadata": {},
     "output_type": "execute_result"
    },
    {
     "data": {
      "image/png": "[encoded data removed]",
      "text/plain": [
       "<Figure size 640x480 with 1 Axes>"
      ]
     },
     "metadata": {},
     "output_type": "display_data"
    }
   ],
   "source": [
    "frame.slip_angle.hist(bins=500)"
   ]
  },
  {
   "cell_type": "markdown",
   "metadata": {},
   "source": [
    "## Delta values"
   ]
  },
  {
   "cell_type": "code",
   "execution_count": 164,
   "metadata": {},
   "outputs": [
    {
     "data": {
      "text/plain": [
       "<AxesSubplot:>"
      ]
     },
     "execution_count": 164,
     "metadata": {},
     "output_type": "execute_result"
    },
    {
     "data": {
      "image/png": "[encoded data removed]",
      "text/plain": [
       "<Figure size 640x480 with 1 Axes>"
      ]
     },
     "metadata": {},
     "output_type": "display_data"
    }
   ],
   "source": [
    "frame.D_angular_vel_z.hist(bins=500)"
   ]
  },
  {
   "cell_type": "code",
   "execution_count": 165,
   "metadata": {},
   "outputs": [
    {
     "data": {
      "text/plain": [
       "<AxesSubplot:>"
      ]
     },
     "execution_count": 165,
     "metadata": {},
     "output_type": "execute_result"
    },
    {
     "data": {
      "image/png": "[encoded data removed]",
      "text/plain": [
       "<Figure size 640x480 with 1 Axes>"
      ]
     },
     "metadata": {},
     "output_type": "display_data"
    }
   ],
   "source": [
    "frame.D_slip_angle.hist(bins=500)"
   ]
  },
  {
   "cell_type": "code",
   "execution_count": 10,
   "metadata": {},
   "outputs": [
    {
     "data": {
      "text/plain": [
       "<AxesSubplot:>"
      ]
     },
     "execution_count": 10,
     "metadata": {},
     "output_type": "execute_result"
    },
    {
     "data": {
      "image/png": "[encoded data removed]",
      "text/plain": [
       "<Figure size 640x480 with 1 Axes>"
      ]
     },
     "metadata": {},
     "output_type": "display_data"
    }
   ],
   "source": [
    "frame.D_linear_vel_x.hist(bins=500)"
   ]
  },
  {
   "cell_type": "markdown",
   "metadata": {},
   "source": [
    "# Explore controls\n",
    "Problem: Translational control does not follow a uniform distribution? \n",
    "    --> There is an average filter in car_system.py, process_observation()\n",
    "    --> This is set using control_average_window setting in Settings.py (default (2, 2))"
   ]
  },
  {
   "cell_type": "code",
   "execution_count": 70,
   "metadata": {},
   "outputs": [],
   "source": [
    "value_history = np.zeros(1)\n",
    "value_log = []\n",
    "for _ in range(100000):\n",
    "    value = random.uniform(0, 20)\n",
    "    value_history = np.append(value_history, value)[1:]\n",
    "    value_log.append(np.average(value_history))"
   ]
  },
  {
   "cell_type": "code",
   "execution_count": 71,
   "metadata": {},
   "outputs": [],
   "source": [
    "# plt.hist(value_log, bins=500);"
   ]
  },
  {
   "cell_type": "markdown",
   "metadata": {},
   "source": [
    "# Explore angular velocity & slip angle\n",
    "Having this high values for angular velocity and slip angle fucks up the normalization."
   ]
  },
  {
   "cell_type": "code",
   "execution_count": 57,
   "metadata": {},
   "outputs": [
    {
     "ename": "AttributeError",
     "evalue": "'DataFrame' object has no attribute 'D_angular_vel_z'",
     "output_type": "error",
     "traceback": [
      "\u001b[0;31m---------------------------------------------------------------------------\u001b[0m",
      "\u001b[0;31mAttributeError\u001b[0m                            Traceback (most recent call last)",
      "\u001b[0;32m/tmp/ipykernel_97954/3711859621.py\u001b[0m in \u001b[0;36m?\u001b[0;34m()\u001b[0m\n\u001b[0;32m----> 1\u001b[0;31m \u001b[0mprint\u001b[0m\u001b[0;34m(\u001b[0m\u001b[0mlen\u001b[0m\u001b[0;34m(\u001b[0m\u001b[0mframe\u001b[0m\u001b[0;34m[\u001b[0m\u001b[0mframe\u001b[0m\u001b[0;34m.\u001b[0m\u001b[0mD_angular_vel_z\u001b[0m \u001b[0;34m>\u001b[0m \u001b[0;36m500\u001b[0m\u001b[0;34m]\u001b[0m\u001b[0;34m)\u001b[0m\u001b[0;34m)\u001b[0m\u001b[0;34m\u001b[0m\u001b[0;34m\u001b[0m\u001b[0m\n\u001b[0m\u001b[1;32m      2\u001b[0m \u001b[0mframe\u001b[0m\u001b[0;34m[\u001b[0m\u001b[0mframe\u001b[0m\u001b[0;34m.\u001b[0m\u001b[0mD_angular_vel_z\u001b[0m \u001b[0;34m>\u001b[0m \u001b[0;36m500\u001b[0m\u001b[0;34m]\u001b[0m\u001b[0;34m\u001b[0m\u001b[0;34m\u001b[0m\u001b[0m\n",
      "\u001b[0;32m~/.local/lib/python3.8/site-packages/pandas/core/generic.py\u001b[0m in \u001b[0;36m?\u001b[0;34m(self, name)\u001b[0m\n\u001b[1;32m   5985\u001b[0m             \u001b[0;32mand\u001b[0m \u001b[0mname\u001b[0m \u001b[0;32mnot\u001b[0m \u001b[0;32min\u001b[0m \u001b[0mself\u001b[0m\u001b[0;34m.\u001b[0m\u001b[0m_accessors\u001b[0m\u001b[0;34m\u001b[0m\u001b[0;34m\u001b[0m\u001b[0m\n\u001b[1;32m   5986\u001b[0m             \u001b[0;32mand\u001b[0m \u001b[0mself\u001b[0m\u001b[0;34m.\u001b[0m\u001b[0m_info_axis\u001b[0m\u001b[0;34m.\u001b[0m\u001b[0m_can_hold_identifiers_and_holds_name\u001b[0m\u001b[0;34m(\u001b[0m\u001b[0mname\u001b[0m\u001b[0;34m)\u001b[0m\u001b[0;34m\u001b[0m\u001b[0;34m\u001b[0m\u001b[0m\n\u001b[1;32m   5987\u001b[0m         ):\n\u001b[1;32m   5988\u001b[0m             \u001b[0;32mreturn\u001b[0m \u001b[0mself\u001b[0m\u001b[0;34m[\u001b[0m\u001b[0mname\u001b[0m\u001b[0;34m]\u001b[0m\u001b[0;34m\u001b[0m\u001b[0;34m\u001b[0m\u001b[0m\n\u001b[0;32m-> 5989\u001b[0;31m         \u001b[0;32mreturn\u001b[0m \u001b[0mobject\u001b[0m\u001b[0;34m.\u001b[0m\u001b[0m__getattribute__\u001b[0m\u001b[0;34m(\u001b[0m\u001b[0mself\u001b[0m\u001b[0;34m,\u001b[0m \u001b[0mname\u001b[0m\u001b[0;34m)\u001b[0m\u001b[0;34m\u001b[0m\u001b[0;34m\u001b[0m\u001b[0m\n\u001b[0m",
      "\u001b[0;31mAttributeError\u001b[0m: 'DataFrame' object has no attribute 'D_angular_vel_z'"
     ]
    }
   ],
   "source": [
    "print(len(frame[frame.D_angular_vel_z > 500]))\n",
    "frame[frame.D_angular_vel_z > 500]"
   ]
  },
  {
   "cell_type": "code",
   "execution_count": 58,
   "metadata": {},
   "outputs": [
    {
     "data": {
      "text/html": [
       "<div>\n",
       "<style scoped>\n",
       "    .dataframe tbody tr th:only-of-type {\n",
       "        vertical-align: middle;\n",
       "    }\n",
       "\n",
       "    .dataframe tbody tr th {\n",
       "        vertical-align: top;\n",
       "    }\n",
       "\n",
       "    .dataframe thead th {\n",
       "        text-align: right;\n",
       "    }\n",
       "</style>\n",
       "<table border=\"1\" class=\"dataframe\">\n",
       "  <thead>\n",
       "    <tr style=\"text-align: right;\">\n",
       "      <th></th>\n",
       "      <th>time</th>\n",
       "      <th>translational_control_applied</th>\n",
       "      <th>angular_control_applied</th>\n",
       "      <th>translational_control</th>\n",
       "      <th>angular_control</th>\n",
       "      <th>pose_x</th>\n",
       "      <th>pose_y</th>\n",
       "      <th>pose_theta</th>\n",
       "      <th>linear_vel_x</th>\n",
       "      <th>angular_vel_z</th>\n",
       "      <th>slip_angle</th>\n",
       "      <th>steering_angle</th>\n",
       "    </tr>\n",
       "  </thead>\n",
       "  <tbody>\n",
       "    <tr>\n",
       "      <th>31830</th>\n",
       "      <td>73.20</td>\n",
       "      <td>12.64529</td>\n",
       "      <td>-0.22442</td>\n",
       "      <td>12.64529</td>\n",
       "      <td>-0.22442</td>\n",
       "      <td>459.17351</td>\n",
       "      <td>515.10292</td>\n",
       "      <td>0.53146</td>\n",
       "      <td>8.14517</td>\n",
       "      <td>-41.67992</td>\n",
       "      <td>3.51187</td>\n",
       "      <td>-0.04666</td>\n",
       "    </tr>\n",
       "    <tr>\n",
       "      <th>31831</th>\n",
       "      <td>73.24</td>\n",
       "      <td>14.37803</td>\n",
       "      <td>0.09086</td>\n",
       "      <td>14.37803</td>\n",
       "      <td>0.09086</td>\n",
       "      <td>458.90334</td>\n",
       "      <td>514.93001</td>\n",
       "      <td>-0.33477</td>\n",
       "      <td>8.46433</td>\n",
       "      <td>6.44961</td>\n",
       "      <td>3.51514</td>\n",
       "      <td>-0.11776</td>\n",
       "    </tr>\n",
       "    <tr>\n",
       "      <th>68871</th>\n",
       "      <td>354.84</td>\n",
       "      <td>11.21858</td>\n",
       "      <td>-0.26191</td>\n",
       "      <td>11.21858</td>\n",
       "      <td>-0.26191</td>\n",
       "      <td>710.78660</td>\n",
       "      <td>566.33433</td>\n",
       "      <td>-1.27104</td>\n",
       "      <td>8.12039</td>\n",
       "      <td>-26.66066</td>\n",
       "      <td>3.59426</td>\n",
       "      <td>0.03722</td>\n",
       "    </tr>\n",
       "    <tr>\n",
       "      <th>73718</th>\n",
       "      <td>148.72</td>\n",
       "      <td>2.02071</td>\n",
       "      <td>0.24843</td>\n",
       "      <td>2.02071</td>\n",
       "      <td>0.24843</td>\n",
       "      <td>530.02024</td>\n",
       "      <td>336.84994</td>\n",
       "      <td>-2.32184</td>\n",
       "      <td>8.89009</td>\n",
       "      <td>1.08865</td>\n",
       "      <td>3.23163</td>\n",
       "      <td>0.17349</td>\n",
       "    </tr>\n",
       "    <tr>\n",
       "      <th>94856</th>\n",
       "      <td>194.24</td>\n",
       "      <td>15.75670</td>\n",
       "      <td>0.35809</td>\n",
       "      <td>15.75670</td>\n",
       "      <td>0.35809</td>\n",
       "      <td>569.04706</td>\n",
       "      <td>122.44671</td>\n",
       "      <td>-1.78132</td>\n",
       "      <td>9.06519</td>\n",
       "      <td>-45.34177</td>\n",
       "      <td>3.90807</td>\n",
       "      <td>0.05888</td>\n",
       "    </tr>\n",
       "    <tr>\n",
       "      <th>94857</th>\n",
       "      <td>194.28</td>\n",
       "      <td>15.44916</td>\n",
       "      <td>0.41251</td>\n",
       "      <td>15.44916</td>\n",
       "      <td>0.41251</td>\n",
       "      <td>568.96544</td>\n",
       "      <td>122.79361</td>\n",
       "      <td>-2.76822</td>\n",
       "      <td>9.35275</td>\n",
       "      <td>5.46934</td>\n",
       "      <td>4.04193</td>\n",
       "      <td>0.17857</td>\n",
       "    </tr>\n",
       "  </tbody>\n",
       "</table>\n",
       "</div>"
      ],
      "text/plain": [
       "         time  translational_control_applied  angular_control_applied   \n",
       "31830   73.20                       12.64529                 -0.22442  \\\n",
       "31831   73.24                       14.37803                  0.09086   \n",
       "68871  354.84                       11.21858                 -0.26191   \n",
       "73718  148.72                        2.02071                  0.24843   \n",
       "94856  194.24                       15.75670                  0.35809   \n",
       "94857  194.28                       15.44916                  0.41251   \n",
       "\n",
       "       translational_control  angular_control     pose_x     pose_y   \n",
       "31830               12.64529         -0.22442  459.17351  515.10292  \\\n",
       "31831               14.37803          0.09086  458.90334  514.93001   \n",
       "68871               11.21858         -0.26191  710.78660  566.33433   \n",
       "73718                2.02071          0.24843  530.02024  336.84994   \n",
       "94856               15.75670          0.35809  569.04706  122.44671   \n",
       "94857               15.44916          0.41251  568.96544  122.79361   \n",
       "\n",
       "       pose_theta  linear_vel_x  angular_vel_z  slip_angle  steering_angle  \n",
       "31830     0.53146       8.14517      -41.67992     3.51187        -0.04666  \n",
       "31831    -0.33477       8.46433        6.44961     3.51514        -0.11776  \n",
       "68871    -1.27104       8.12039      -26.66066     3.59426         0.03722  \n",
       "73718    -2.32184       8.89009        1.08865     3.23163         0.17349  \n",
       "94856    -1.78132       9.06519      -45.34177     3.90807         0.05888  \n",
       "94857    -2.76822       9.35275        5.46934     4.04193         0.17857  "
      ]
     },
     "execution_count": 58,
     "metadata": {},
     "output_type": "execute_result"
    }
   ],
   "source": [
    "frame[frame.slip_angle > 3.2]"
   ]
  },
  {
   "cell_type": "code",
   "execution_count": 59,
   "metadata": {},
   "outputs": [
    {
     "data": {
      "text/plain": [
       "<AxesSubplot:xlabel='pose_x'>"
      ]
     },
     "execution_count": 59,
     "metadata": {},
     "output_type": "execute_result"
    },
    {
     "data": {
      "image/png": "[encoded data removed]",
      "text/plain": [
       "<Figure size 640x480 with 1 Axes>"
      ]
     },
     "metadata": {},
     "output_type": "display_data"
    }
   ],
   "source": [
    "frame.iloc[31800:31850].plot(x='pose_x', y='pose_y')"
   ]
  },
  {
   "cell_type": "code",
   "execution_count": null,
   "metadata": {},
   "outputs": [],
   "source": []
  }
 ],
 "metadata": {
  "kernelspec": {
   "display_name": "f1tenth",
   "language": "python",
   "name": "python3"
  },
  "language_info": {
   "codemirror_mode": {
    "name": "ipython",
    "version": 3
   },
   "file_extension": ".py",
   "mimetype": "text/x-python",
   "name": "python",
   "nbconvert_exporter": "python",
   "pygments_lexer": "ipython3",
   "version": "3.8.16"
  },
  "orig_nbformat": 4
 },
 "nbformat": 4,
 "nbformat_minor": 2
}
