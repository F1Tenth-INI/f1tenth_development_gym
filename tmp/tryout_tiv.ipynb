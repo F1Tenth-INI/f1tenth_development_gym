{
 "cells": [
  {
   "cell_type": "code",
   "execution_count": 1,
   "metadata": {},
   "outputs": [
    {
     "data": {
      "text/plain": [
       "'/home/gianni/Files/Studium/Master/04_FS2023/MT/f1tenth_development_gym'"
      ]
     },
     "execution_count": 1,
     "metadata": {},
     "output_type": "execute_result"
    }
   ],
   "source": [
    "import os\n",
    "os.chdir('../')\n",
    "os.getcwd()"
   ]
  },
  {
   "cell_type": "code",
   "execution_count": 2,
   "metadata": {},
   "outputs": [],
   "source": [
    "import pandas as pd\n",
    "import numpy as np\n",
    "import matplotlib.pyplot as plt\n",
    "import matplotlib\n",
    "import math"
   ]
  },
  {
   "cell_type": "code",
   "execution_count": 3,
   "metadata": {},
   "outputs": [],
   "source": [
    "def angle(vector1, vector2):\n",
    "    x1, y1 = vector1\n",
    "    x2, y2 = vector2\n",
    "    inner_product = x1*x2 + y1*y2\n",
    "    len1 = math.hypot(x1, y1)\n",
    "    len2 = math.hypot(x2, y2)\n",
    "    return math.acos(inner_product/(len1*len2))"
   ]
  },
  {
   "cell_type": "code",
   "execution_count": 4,
   "metadata": {},
   "outputs": [
    {
     "name": "stdout",
     "output_type": "stream",
     "text": [
      "-110\n"
     ]
    },
    {
     "data": {
      "image/png": "[encoded data removed]",
      "text/plain": [
       "<Figure size 640x480 with 1 Axes>"
      ]
     },
     "metadata": {},
     "output_type": "display_data"
    },
    {
     "name": "stdout",
     "output_type": "stream",
     "text": [
      "Angle between car and vel: 0.11602884636671124\n",
      "Slip angle: -0.09229302\n",
      "Angle of car pose: 0.11602890486832998\n"
     ]
    }
   ],
   "source": [
    "path = 'SI_Toolkit_ASF/Experiments/0_DNN_tiv/Recordings_preprocessed/Train/Trajectory-0.csv'\n",
    "df = pd.read_csv(path, skiprows=8, usecols=['time', 'D_pose_x', 'D_pose_y', 'D_car_pose_x', 'D_car_pose_y', 'pose_theta', 'slip_angle'])\n",
    "pt = df.iloc[35]\n",
    "print(int(np.rad2deg(pt.pose_theta)))\n",
    "fig, ax = plt.subplots()\n",
    "ax.arrow(0.0, 0.0, pt.D_pose_x, pt.D_pose_y,head_width=0.2, fc='orange')\n",
    "ax.arrow(0.0, 0.0, pt.D_car_pose_x, pt.D_car_pose_y, head_width=0.2, fc='green')\n",
    "# ax.add_patch(matplotlib.patches.Rectangle((0.0, 0.0), 0.1, 0.3, angle=pt.pose_theta))\n",
    "len = 1.0\n",
    "ax.arrow(0.0, 0.0, len * np.cos(pt.pose_theta),  len * np.sin(pt.pose_theta), head_width=0.2, fc='black')\n",
    "plt.show()\n",
    "print('Angle between car and vel:', angle((pt.D_pose_x, pt.D_pose_y), (np.cos(pt.pose_theta), np.sin(pt.pose_theta))))\n",
    "print('Slip angle:', pt.slip_angle)\n",
    "print('Angle of car pose:', angle((pt.D_car_pose_x, pt.D_car_pose_y), (1.0, 0.0)))"
   ]
  },
  {
   "cell_type": "code",
   "execution_count": 5,
   "metadata": {},
   "outputs": [
    {
     "data": {
      "text/html": [
       "<div>\n",
       "<style scoped>\n",
       "    .dataframe tbody tr th:only-of-type {\n",
       "        vertical-align: middle;\n",
       "    }\n",
       "\n",
       "    .dataframe tbody tr th {\n",
       "        vertical-align: top;\n",
       "    }\n",
       "\n",
       "    .dataframe thead th {\n",
       "        text-align: right;\n",
       "    }\n",
       "</style>\n",
       "<table border=\"1\" class=\"dataframe\">\n",
       "  <thead>\n",
       "    <tr style=\"text-align: right;\">\n",
       "      <th></th>\n",
       "      <th>time</th>\n",
       "      <th>pose_theta</th>\n",
       "      <th>slip_angle</th>\n",
       "      <th>D_pose_x</th>\n",
       "      <th>D_pose_y</th>\n",
       "      <th>D_car_pose_x</th>\n",
       "      <th>D_car_pose_y</th>\n",
       "    </tr>\n",
       "  </thead>\n",
       "  <tbody>\n",
       "  </tbody>\n",
       "</table>\n",
       "</div>"
      ],
      "text/plain": [
       "Empty DataFrame\n",
       "Columns: [time, pose_theta, slip_angle, D_pose_x, D_pose_y, D_car_pose_x, D_car_pose_y]\n",
       "Index: []"
      ]
     },
     "execution_count": 5,
     "metadata": {},
     "output_type": "execute_result"
    }
   ],
   "source": [
    "df[df.D_car_pose_y > 5.0]"
   ]
  },
  {
   "cell_type": "code",
   "execution_count": 6,
   "metadata": {},
   "outputs": [
    {
     "data": {
      "text/plain": [
       "34.37746770784939"
      ]
     },
     "execution_count": 6,
     "metadata": {},
     "output_type": "execute_result"
    }
   ],
   "source": [
    "np.rad2deg(0.6)"
   ]
  },
  {
   "cell_type": "code",
   "execution_count": 8,
   "metadata": {},
   "outputs": [
    {
     "data": {
      "text/html": [
       "<div>\n",
       "<style scoped>\n",
       "    .dataframe tbody tr th:only-of-type {\n",
       "        vertical-align: middle;\n",
       "    }\n",
       "\n",
       "    .dataframe tbody tr th {\n",
       "        vertical-align: top;\n",
       "    }\n",
       "\n",
       "    .dataframe thead th {\n",
       "        text-align: right;\n",
       "    }\n",
       "</style>\n",
       "<table border=\"1\" class=\"dataframe\">\n",
       "  <thead>\n",
       "    <tr style=\"text-align: right;\">\n",
       "      <th></th>\n",
       "      <th>time</th>\n",
       "      <th>pose_theta</th>\n",
       "      <th>slip_angle</th>\n",
       "      <th>D_pose_x</th>\n",
       "      <th>D_pose_y</th>\n",
       "      <th>D_car_pose_x</th>\n",
       "      <th>D_car_pose_y</th>\n",
       "    </tr>\n",
       "  </thead>\n",
       "  <tbody>\n",
       "    <tr>\n",
       "      <th>count</th>\n",
       "      <td>3302.000000</td>\n",
       "      <td>3302.000000</td>\n",
       "      <td>3302.000000</td>\n",
       "      <td>3302.000000</td>\n",
       "      <td>3302.000000</td>\n",
       "      <td>3302.000000</td>\n",
       "      <td>3302.000000</td>\n",
       "    </tr>\n",
       "    <tr>\n",
       "      <th>mean</th>\n",
       "      <td>178.491048</td>\n",
       "      <td>-0.069588</td>\n",
       "      <td>-0.005794</td>\n",
       "      <td>0.382775</td>\n",
       "      <td>-0.227207</td>\n",
       "      <td>4.920891</td>\n",
       "      <td>-0.051485</td>\n",
       "    </tr>\n",
       "    <tr>\n",
       "      <th>std</th>\n",
       "      <td>119.664977</td>\n",
       "      <td>1.769474</td>\n",
       "      <td>0.142981</td>\n",
       "      <td>3.968120</td>\n",
       "      <td>3.704234</td>\n",
       "      <td>2.092006</td>\n",
       "      <td>1.031447</td>\n",
       "    </tr>\n",
       "    <tr>\n",
       "      <th>min</th>\n",
       "      <td>1.480000</td>\n",
       "      <td>-3.140834</td>\n",
       "      <td>-0.760863</td>\n",
       "      <td>-8.769321</td>\n",
       "      <td>-9.292221</td>\n",
       "      <td>0.665546</td>\n",
       "      <td>-3.869223</td>\n",
       "    </tr>\n",
       "    <tr>\n",
       "      <th>25%</th>\n",
       "      <td>75.210000</td>\n",
       "      <td>-1.523555</td>\n",
       "      <td>-0.054595</td>\n",
       "      <td>-2.495748</td>\n",
       "      <td>-2.948761</td>\n",
       "      <td>3.290814</td>\n",
       "      <td>-0.334019</td>\n",
       "    </tr>\n",
       "    <tr>\n",
       "      <th>50%</th>\n",
       "      <td>165.660000</td>\n",
       "      <td>-0.149867</td>\n",
       "      <td>0.000254</td>\n",
       "      <td>0.589752</td>\n",
       "      <td>-0.360048</td>\n",
       "      <td>4.854804</td>\n",
       "      <td>-0.003636</td>\n",
       "    </tr>\n",
       "    <tr>\n",
       "      <th>75%</th>\n",
       "      <td>283.230000</td>\n",
       "      <td>1.394142</td>\n",
       "      <td>0.050329</td>\n",
       "      <td>3.324967</td>\n",
       "      <td>2.473140</td>\n",
       "      <td>6.422641</td>\n",
       "      <td>0.287620</td>\n",
       "    </tr>\n",
       "    <tr>\n",
       "      <th>max</th>\n",
       "      <td>398.320000</td>\n",
       "      <td>3.136441</td>\n",
       "      <td>0.562624</td>\n",
       "      <td>9.604263</td>\n",
       "      <td>9.565878</td>\n",
       "      <td>9.584216</td>\n",
       "      <td>3.999144</td>\n",
       "    </tr>\n",
       "  </tbody>\n",
       "</table>\n",
       "</div>"
      ],
      "text/plain": [
       "              time   pose_theta   slip_angle     D_pose_x     D_pose_y   \n",
       "count  3302.000000  3302.000000  3302.000000  3302.000000  3302.000000  \\\n",
       "mean    178.491048    -0.069588    -0.005794     0.382775    -0.227207   \n",
       "std     119.664977     1.769474     0.142981     3.968120     3.704234   \n",
       "min       1.480000    -3.140834    -0.760863    -8.769321    -9.292221   \n",
       "25%      75.210000    -1.523555    -0.054595    -2.495748    -2.948761   \n",
       "50%     165.660000    -0.149867     0.000254     0.589752    -0.360048   \n",
       "75%     283.230000     1.394142     0.050329     3.324967     2.473140   \n",
       "max     398.320000     3.136441     0.562624     9.604263     9.565878   \n",
       "\n",
       "       D_car_pose_x  D_car_pose_y  \n",
       "count   3302.000000   3302.000000  \n",
       "mean       4.920891     -0.051485  \n",
       "std        2.092006      1.031447  \n",
       "min        0.665546     -3.869223  \n",
       "25%        3.290814     -0.334019  \n",
       "50%        4.854804     -0.003636  \n",
       "75%        6.422641      0.287620  \n",
       "max        9.584216      3.999144  "
      ]
     },
     "execution_count": 8,
     "metadata": {},
     "output_type": "execute_result"
    }
   ],
   "source": [
    "df.describe()"
   ]
  },
  {
   "cell_type": "code",
   "execution_count": 7,
   "metadata": {},
   "outputs": [
    {
     "data": {
      "image/png": "[encoded data removed]",
      "text/plain": [
       "<Figure size 640x480 with 1 Axes>"
      ]
     },
     "metadata": {},
     "output_type": "display_data"
    }
   ],
   "source": [
    "plt.hist(df.D_car_pose_y, bins=100);"
   ]
  }
 ],
 "metadata": {
  "kernelspec": {
   "display_name": "f1tenth",
   "language": "python",
   "name": "f1tenth"
  },
  "language_info": {
   "codemirror_mode": {
    "name": "ipython",
    "version": 3
   },
   "file_extension": ".py",
   "mimetype": "text/x-python",
   "name": "python",
   "nbconvert_exporter": "python",
   "pygments_lexer": "ipython3",
   "version": "3.8.16"
  }
 },
 "nbformat": 4,
 "nbformat_minor": 2
}
